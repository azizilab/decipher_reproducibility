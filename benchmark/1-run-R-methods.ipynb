{
 "cells": [
  {
   "cell_type": "code",
   "execution_count": 3,
   "metadata": {
    "scrolled": true
   },
   "outputs": [
    {
     "name": "stderr",
     "output_type": "stream",
     "text": [
      "also installing the dependencies ‘gert’, ‘usethis’\n",
      "\n",
      "\n",
      "Updating HTML index of packages in '.Library'\n",
      "\n",
      "Making 'packages.html' ...\n",
      " done\n",
      "\n",
      "Loading required package: usethis\n",
      "\n",
      "Downloading GitHub repo satijalab/seurat-data@HEAD\n",
      "\n"
     ]
    },
    {
     "name": "stdout",
     "output_type": "stream",
     "text": [
      "crayon (1.5.1 -> 1.5.2) [CRAN]\n"
     ]
    },
    {
     "name": "stderr",
     "output_type": "stream",
     "text": [
      "Installing 1 packages: crayon\n",
      "\n",
      "Updating HTML index of packages in '.Library'\n",
      "\n",
      "Making 'packages.html' ...\n",
      " done\n",
      "\n"
     ]
    },
    {
     "name": "stdout",
     "output_type": "stream",
     "text": [
      "\u001b[36m──\u001b[39m \u001b[36mR CMD build\u001b[39m \u001b[36m───────────────────────────────────────────────────────────────────────────────────────────────────────────────────────────────────────────────────────────────────────────────────────────────────────────\u001b[39m\n",
      "\u001b[32m✔\u001b[39m  \u001b[90mchecking for file ‘/private/var/folders/tn/th3j2v4j6x9c8y_m1hmcdxym0000gn/T/Rtmp2PeIZL/remotesa4bd71daddeb/satijalab-seurat-data-d6a8ce6/DESCRIPTION’\u001b[39m\u001b[36m\u001b[39m\n",
      "\u001b[90m─\u001b[39m\u001b[90m  \u001b[39m\u001b[90mpreparing ‘SeuratData’:\u001b[39m\u001b[36m\u001b[39m\n",
      "\u001b[32m✔\u001b[39m  \u001b[90mchecking DESCRIPTION meta-information\u001b[39m\u001b[36m\u001b[39m\n",
      "\u001b[90m─\u001b[39m\u001b[90m  \u001b[39m\u001b[90mchecking for LF line-endings in source and make files and shell scripts\u001b[39m\u001b[36m\u001b[39m\n",
      "\u001b[90m─\u001b[39m\u001b[90m  \u001b[39m\u001b[90mchecking for empty or unneeded directories\u001b[39m\u001b[36m\u001b[39m\n",
      "   Omitted ‘LazyData’ from DESCRIPTION\n",
      "\u001b[90m─\u001b[39m\u001b[90m  \u001b[39m\u001b[90mbuilding ‘SeuratData_0.2.2.tar.gz’\u001b[39m\u001b[36m\u001b[39m\n",
      "   \n",
      "\r"
     ]
    }
   ],
   "source": [
    "install.packages('Seurat')\n",
    "install.packages('devtools')\n",
    "library(devtools)\n",
    "devtools::install_github('satijalab/seurat-data')\n",
    "\n",
    "if (!requireNamespace(\"remotes\", quietly = TRUE)) {\n",
    "  install.packages(\"remotes\")\n",
    "}\n",
    "remotes::install_github(\"mojaveazure/seurat-disk\")"
   ]
  },
  {
   "cell_type": "code",
   "execution_count": 4,
   "metadata": {},
   "outputs": [
    {
     "name": "stderr",
     "output_type": "stream",
     "text": [
      "Updating HTML index of packages in '.Library'\n",
      "\n",
      "Making 'packages.html' ...\n",
      " done\n",
      "\n",
      "'getOption(\"repos\")' replaces Bioconductor standard repositories, see\n",
      "'help(\"repositories\", package = \"BiocManager\")' for details.\n",
      "Replacement repositories:\n",
      "    CRAN: https://cran.r-project.org\n",
      "\n",
      "Bioconductor version 3.16 (BiocManager 1.30.20), R 4.2.3 (2023-03-15)\n",
      "\n",
      "Installing package(s) 'BiocVersion', 'LoomExperiment', 'SingleCellExperiment'\n",
      "\n",
      "also installing the dependencies ‘RCurl’, ‘GenomeInfoDbData’, ‘zlibbioc’, ‘MatrixGenerics’, ‘Biobase’, ‘IRanges’, ‘GenomeInfoDb’, ‘Rhdf5lib’, ‘rhdf5filters’, ‘XVector’, ‘S4Vectors’, ‘SummarizedExperiment’, ‘rhdf5’, ‘BiocIO’, ‘DelayedArray’, ‘GenomicRanges’, ‘HDF5Array’, ‘BiocGenerics’\n",
      "\n",
      "\n",
      "Updating HTML index of packages in '.Library'\n",
      "\n",
      "Making 'packages.html' ...\n",
      " done\n",
      "\n",
      "Old packages: 'blob', 'boot', 'broom', 'crul', 'DBI', 'dbplyr', 'dtplyr',\n",
      "  'forcats', 'formatR', 'gargle', 'googledrive', 'googlesheets4', 'hardhat',\n",
      "  'hms', 'IRkernel', 'lava', 'modelr', 'quantmod', 'recipes', 'repr', 'reprex',\n",
      "  'rstudioapi', 'rvest', 'tidyverse', 'timeDate'\n",
      "\n"
     ]
    }
   ],
   "source": [
    "if (!requireNamespace(\"BiocManager\", quietly = TRUE))\n",
    "    install.packages(\"BiocManager\")\n",
    "\n",
    "BiocManager::install(c(\"LoomExperiment\", \"SingleCellExperiment\"))"
   ]
  },
  {
   "cell_type": "code",
   "execution_count": 6,
   "metadata": {},
   "outputs": [
    {
     "name": "stderr",
     "output_type": "stream",
     "text": [
      "Downloading GitHub repo cellgeni/sceasy@HEAD\n",
      "\n"
     ]
    },
    {
     "name": "stdout",
     "output_type": "stream",
     "text": [
      "\n",
      "\u001b[36m──\u001b[39m \u001b[36mR CMD build\u001b[39m \u001b[36m───────────────────────────────────────────────────────────────────────────────────────────────────────────────────────────────────────────────────────────────────────────────────────────────────────────\u001b[39m\n",
      "\u001b[32m✔\u001b[39m  \u001b[90mchecking for file ‘/private/var/folders/tn/th3j2v4j6x9c8y_m1hmcdxym0000gn/T/RtmpknTLkq/remotesfd9d56d06ac6/cellgeni-sceasy-0cfc0e3/DESCRIPTION’\u001b[39m\u001b[36m\u001b[39m\n",
      "\u001b[90m─\u001b[39m\u001b[90m  \u001b[39m\u001b[90mpreparing ‘sceasy’:\u001b[39m\u001b[36m\u001b[39m\n",
      "\u001b[32m✔\u001b[39m  \u001b[90mchecking DESCRIPTION meta-information\u001b[39m\u001b[36m\u001b[39m\n",
      "\u001b[90m─\u001b[39m\u001b[90m  \u001b[39m\u001b[90mchecking for LF line-endings in source and make files and shell scripts\u001b[39m\u001b[36m\u001b[39m\n",
      "\u001b[90m─\u001b[39m\u001b[90m  \u001b[39m\u001b[90mchecking for empty or unneeded directories\u001b[39m\u001b[36m\u001b[39m\n",
      "\u001b[90m─\u001b[39m\u001b[90m  \u001b[39m\u001b[90mbuilding ‘sceasy_0.0.7.tar.gz’\u001b[39m\u001b[36m\u001b[39m\n",
      "   \n",
      "\r"
     ]
    }
   ],
   "source": [
    "devtools::install_github(\"cellgeni/sceasy\")\n",
    "\n"
   ]
  },
  {
   "cell_type": "code",
   "execution_count": 1,
   "metadata": {
    "ExecuteTime": {
     "end_time": "2023-09-12T20:53:47.652849Z",
     "start_time": "2023-09-12T20:53:44.294Z"
    }
   },
   "outputs": [
    {
     "name": "stderr",
     "output_type": "stream",
     "text": [
      "Attaching SeuratObject\n",
      "\n",
      "Registered S3 method overwritten by 'SeuratDisk':\n",
      "  method            from  \n",
      "  as.sparse.H5Group Seurat\n",
      "\n",
      "Loading required package: reticulate\n",
      "\n"
     ]
    }
   ],
   "source": [
    "library(Seurat)\n",
    "library(SeuratData)\n",
    "library(SeuratDisk)\n",
    "library(sceasy)\n",
    "# library(reticulate)\n",
    "# use_condaenv('EnvironmentName')\n",
    "# loompy <- reticulate::import('loompy')"
   ]
  },
  {
   "cell_type": "markdown",
   "metadata": {},
   "source": [
    "### Seurat"
   ]
  },
  {
   "cell_type": "code",
   "execution_count": 2,
   "metadata": {
    "ExecuteTime": {
     "end_time": "2023-09-12T20:54:28.786046Z",
     "start_time": "2023-09-12T20:53:52.905Z"
    }
   },
   "outputs": [
    {
     "name": "stderr",
     "output_type": "stream",
     "text": [
      "X -> counts\n",
      "\n"
     ]
    },
    {
     "data": {
      "text/plain": [
       "An object of class Seurat \n",
       "3130 features across 18000 samples within 1 assay \n",
       "Active assay: RNA (3130 features, 0 variable features)\n",
       " 6 dimensional reductions calculated: pca, tsne, latent_p, latent_z, z1_cvi, z2_cvi"
      ]
     },
     "metadata": {},
     "output_type": "display_data"
    }
   ],
   "source": [
    "sceasy::convertFormat(\n",
    "    \"../data/AML1.decipher.h5ad\", \n",
    "    from=\"anndata\", to=\"seurat\",\n",
    "                       outFile='AML1.decipher.rds')"
   ]
  },
  {
   "cell_type": "code",
   "execution_count": 6,
   "metadata": {
    "ExecuteTime": {
     "end_time": "2023-09-12T21:00:57.478195Z",
     "start_time": "2023-09-12T21:00:57.257Z"
    }
   },
   "outputs": [],
   "source": [
    "help(FindClusters)"
   ]
  },
  {
   "cell_type": "code",
   "execution_count": 10,
   "metadata": {},
   "outputs": [
    {
     "name": "stderr",
     "output_type": "stream",
     "text": [
      "Scaling features for provided objects\n",
      "\n",
      "Finding all pairwise anchors\n",
      "\n",
      "Running CCA\n",
      "\n",
      "Merging objects\n",
      "\n",
      "Finding neighborhoods\n",
      "\n",
      "Finding anchors\n",
      "\n",
      "\tFound 17814 anchors\n",
      "\n",
      "Filtering anchors\n",
      "\n",
      "\tRetained 1655 anchors\n",
      "\n",
      "Merging dataset 2 into 1\n",
      "\n",
      "Extracting anchors for merged samples\n",
      "\n",
      "Finding integration vectors\n",
      "\n",
      "Finding integration vector weights\n",
      "\n",
      "Integrating data\n",
      "\n",
      "Warning message:\n",
      "“The default method for RunUMAP has changed from calling Python UMAP via reticulate to the R-native UWOT using the cosine metric\n",
      "To use Python UMAP via reticulate, set umap.method to 'umap-learn' and metric to 'correlation'\n",
      "This message will be shown once per session”\n",
      "11:29:26 UMAP embedding parameters a = 0.9922 b = 1.112\n",
      "\n",
      "11:29:26 Read 18000 rows and found 30 numeric columns\n",
      "\n",
      "11:29:26 Using Annoy for neighbor search, n_neighbors = 30\n",
      "\n",
      "11:29:26 Building Annoy index with metric = cosine, n_trees = 50\n",
      "\n",
      "0%   10   20   30   40   50   60   70   80   90   100%\n",
      "\n",
      "[----|----|----|----|----|----|----|----|----|----|\n",
      "\n",
      "*\n",
      "*\n",
      "*\n",
      "*\n",
      "*\n",
      "*\n",
      "*\n",
      "*\n",
      "*\n",
      "*\n",
      "*\n",
      "*\n",
      "*\n",
      "*\n",
      "*\n",
      "*\n",
      "*\n",
      "*\n",
      "*\n",
      "*\n",
      "*\n",
      "*\n",
      "*\n",
      "*\n",
      "*\n",
      "*\n",
      "*\n",
      "*\n",
      "*\n",
      "*\n",
      "*\n",
      "*\n",
      "*\n",
      "*\n",
      "*\n",
      "*\n",
      "*\n",
      "*\n",
      "*\n",
      "*\n",
      "*\n",
      "*\n",
      "*\n",
      "*\n",
      "*\n",
      "*\n",
      "*\n",
      "*\n",
      "*\n",
      "*\n",
      "|\n",
      "\n",
      "11:29:28 Writing NN index file to temp file /var/folders/tn/th3j2v4j6x9c8y_m1hmcdxym0000gn/T//RtmpknTLkq/filefd9d2114c7c9\n",
      "\n",
      "11:29:28 Searching Annoy index using 1 thread, search_k = 3000\n",
      "\n",
      "11:29:34 Annoy recall = 100%\n",
      "\n",
      "11:29:34 Commencing smooth kNN distance calibration using 1 thread\n",
      " with target n_neighbors = 30\n",
      "\n",
      "11:29:35 Initializing from normalized Laplacian + noise (using irlba)\n",
      "\n",
      "11:29:36 Commencing optimization for 200 epochs, with 784530 positive edges\n",
      "\n",
      "11:29:45 Optimization finished\n",
      "\n",
      "Computing nearest neighbor graph\n",
      "\n",
      "Computing SNN\n",
      "\n"
     ]
    },
    {
     "name": "stdout",
     "output_type": "stream",
     "text": [
      "Modularity Optimizer version 1.3.0 by Ludo Waltman and Nees Jan van Eck\n",
      "\n",
      "Number of nodes: 18000\n",
      "Number of edges: 683755\n",
      "\n",
      "Running Louvain algorithm...\n",
      "Maximum modularity in 10 random starts: 0.9035\n",
      "Number of communities: 12\n",
      "Elapsed time: 4 seconds\n"
     ]
    },
    {
     "name": "stderr",
     "output_type": "stream",
     "text": [
      "Warning message in .regularise_df(obj@meta.data, drop_single_values = drop_single_values):\n",
      "“Dropping single category variables:mito_comm, DNMT3A_mut, DNMT3A_wt, DNMT3A mutation vs wild type”\n"
     ]
    },
    {
     "data": {
      "text/plain": [
       "AnnData object with n_obs × n_vars = 18000 × 3130\n",
       "    obs: 'G2M_score', 'NPM1_mut', 'NPM1_wt', 'PhenoGraph_clusters', 'S_score', 'batch', 'cell_type', 'doublets', 'doublets000001', 'doublets00001', 'doublets0001', 'doublets001', 'log10_original_total_counts', 'log1p_nFeaturess_RNA_by_counts', 'log1p_total_counts', 'low_count_cluster', 'mito_frac', 'nCounts_RNA', 'nFeaturess_RNA_by_counts', 'original_total_counts', 'pct_counts_in_top_100_genes', 'pct_counts_in_top_200_genes', 'pct_counts_in_top_500_genes', 'pct_counts_in_top_50_genes', 'phase', 'sample', 'total_counts', 'sample_short', 'blast_cell_type_08H089', 'dm_0_rank', 'origin', 'cell_type_merged', 'leiden', 'NPM1 mutation vs wild type', 'nCount_RNA', 'nFeature_RNA', 'integrated_snn_res.0.5', 'seurat_clusters'\n",
       "    var: 'name'\n",
       "    obsm: 'X_pca', 'X_umap'"
      ]
     },
     "metadata": {},
     "output_type": "display_data"
    }
   ],
   "source": [
    "# adata=readRDS(\"processed_data_original.rds\")\n",
    "# adata <- FindVariableFeatures(adata)\n",
    "# adata.list <- SplitObject(adata, split.by = \"origin\")\n",
    "# features <- SelectIntegrationFeatures(object.list = adata.list)\n",
    "# adata.anchors <- FindIntegrationAnchors(object.list = adata.list, , anchor.features = features)\n",
    "# adata.combined <- IntegrateData(anchorset = adata.anchors)\n",
    "# sceasy::convertFormat(adata.combined, from=\"seurat\", to=\"anndata\",\n",
    "#                        outFile='outputs/seurat.h5ad')\n",
    "\n",
    "adata <- readRDS(\"AML1.decipher.rds\")\n",
    "adata <- FindVariableFeatures(adata)\n",
    "adata.list <- SplitObject(adata, split.by = \"origin\")\n",
    "features <- SelectIntegrationFeatures(object.list = adata.list)\n",
    "adata.anchors <- FindIntegrationAnchors(object.list = adata.list, , anchor.features = features)\n",
    "adata.combined <- IntegrateData(anchorset = adata.anchors)\n",
    "adata.combined <- ScaleData(adata.combined, verbose = FALSE)\n",
    "adata.combined <- RunPCA(adata.combined, npcs = 30, verbose = FALSE)\n",
    "adata.combined <- RunUMAP(adata.combined, reduction = \"pca\", dims = 1:30)\n",
    "adata.combined <- FindNeighbors(adata.combined, reduction = \"pca\", dims = 1:30)\n",
    "adata.combined <- FindClusters(adata.combined)\n"
   ]
  },
  {
   "cell_type": "code",
   "execution_count": 13,
   "metadata": {},
   "outputs": [
    {
     "name": "stderr",
     "output_type": "stream",
     "text": [
      "Warning message in .regularise_df(obj@meta.data, drop_single_values = drop_single_values):\n",
      "“Dropping single category variables:mito_comm, DNMT3A_mut, DNMT3A_wt, DNMT3A mutation vs wild type”\n"
     ]
    },
    {
     "data": {
      "text/plain": [
       "AnnData object with n_obs × n_vars = 18000 × 3130\n",
       "    obs: 'G2M_score', 'NPM1_mut', 'NPM1_wt', 'PhenoGraph_clusters', 'S_score', 'batch', 'cell_type', 'doublets', 'doublets000001', 'doublets00001', 'doublets0001', 'doublets001', 'log10_original_total_counts', 'log1p_nFeaturess_RNA_by_counts', 'log1p_total_counts', 'low_count_cluster', 'mito_frac', 'nCounts_RNA', 'nFeaturess_RNA_by_counts', 'original_total_counts', 'pct_counts_in_top_100_genes', 'pct_counts_in_top_200_genes', 'pct_counts_in_top_500_genes', 'pct_counts_in_top_50_genes', 'phase', 'sample', 'total_counts', 'sample_short', 'blast_cell_type_08H089', 'dm_0_rank', 'origin', 'cell_type_merged', 'leiden', 'NPM1 mutation vs wild type', 'nCount_RNA', 'nFeature_RNA', 'integrated_snn_res.0.5', 'seurat_clusters'\n",
       "    var: 'name'\n",
       "    obsm: 'X_pca', 'X_umap'"
      ]
     },
     "metadata": {},
     "output_type": "display_data"
    }
   ],
   "source": [
    "sceasy::convertFormat(adata.combined, from=\"seurat\", to=\"anndata\", outFile='outputs/seurat.h5ad')"
   ]
  },
  {
   "cell_type": "markdown",
   "metadata": {},
   "source": [
    "## Seurat for simulated data"
   ]
  },
  {
   "cell_type": "code",
   "execution_count": 4,
   "metadata": {},
   "outputs": [
    {
     "name": "stderr",
     "output_type": "stream",
     "text": [
      "X -> counts\n",
      "\n",
      "Warning message:\n",
      "“Keys should be one or more alphanumeric characters followed by an underscore, setting key from TRUEdecipher_v_ to TRUEdecipherv_”\n",
      "Warning message:\n",
      "“All keys should be one or more alphanumeric characters followed by an underscore '_', setting key to TRUEdecipherv_”\n"
     ]
    },
    {
     "data": {
      "text/plain": [
       "An object of class Seurat \n",
       "3130 features across 18000 samples within 1 assay \n",
       "Active assay: RNA (3130 features, 0 variable features)\n",
       " 3 dimensional reductions calculated: decipher_v, decipher_z, true_decipher_v"
      ]
     },
     "metadata": {},
     "output_type": "display_data"
    },
    {
     "name": "stderr",
     "output_type": "stream",
     "text": [
      "Scaling features for provided objects\n",
      "\n",
      "Finding all pairwise anchors\n",
      "\n",
      "Running CCA\n",
      "\n",
      "Merging objects\n",
      "\n",
      "Finding neighborhoods\n",
      "\n",
      "Finding anchors\n",
      "\n",
      "\tFound 24264 anchors\n",
      "\n",
      "Filtering anchors\n",
      "\n",
      "\tRetained 692 anchors\n",
      "\n",
      "Merging dataset 1 into 2\n",
      "\n",
      "Extracting anchors for merged samples\n",
      "\n",
      "Finding integration vectors\n",
      "\n",
      "Finding integration vector weights\n",
      "\n",
      "Integrating data\n",
      "\n",
      "Warning message:\n",
      "“The default method for RunUMAP has changed from calling Python UMAP via reticulate to the R-native UWOT using the cosine metric\n",
      "To use Python UMAP via reticulate, set umap.method to 'umap-learn' and metric to 'correlation'\n",
      "This message will be shown once per session”\n",
      "11:22:57 UMAP embedding parameters a = 0.9922 b = 1.112\n",
      "\n",
      "11:22:57 Read 18000 rows and found 30 numeric columns\n",
      "\n",
      "11:22:57 Using Annoy for neighbor search, n_neighbors = 30\n",
      "\n",
      "11:22:57 Building Annoy index with metric = cosine, n_trees = 50\n",
      "\n",
      "0%   10   20   30   40   50   60   70   80   90   100%\n",
      "\n",
      "[----|----|----|----|----|----|----|----|----|----|\n",
      "\n",
      "*\n",
      "*\n",
      "*\n",
      "*\n",
      "*\n",
      "*\n",
      "*\n",
      "*\n",
      "*\n",
      "*\n",
      "*\n",
      "*\n",
      "*\n",
      "*\n",
      "*\n",
      "*\n",
      "*\n",
      "*\n",
      "*\n",
      "*\n",
      "*\n",
      "*\n",
      "*\n",
      "*\n",
      "*\n",
      "*\n",
      "*\n",
      "*\n",
      "*\n",
      "*\n",
      "*\n",
      "*\n",
      "*\n",
      "*\n",
      "*\n",
      "*\n",
      "*\n",
      "*\n",
      "*\n",
      "*\n",
      "*\n",
      "*\n",
      "*\n",
      "*\n",
      "*\n",
      "*\n",
      "*\n",
      "*\n",
      "*\n",
      "*\n",
      "|\n",
      "\n",
      "11:22:59 Writing NN index file to temp file /var/folders/tn/th3j2v4j6x9c8y_m1hmcdxym0000gn/T//Rtmpk9MdaW/file91915314da31\n",
      "\n",
      "11:22:59 Searching Annoy index using 1 thread, search_k = 3000\n",
      "\n",
      "11:23:04 Annoy recall = 100%\n",
      "\n",
      "11:23:05 Commencing smooth kNN distance calibration using 1 thread\n",
      " with target n_neighbors = 30\n",
      "\n",
      "11:23:06 Initializing from normalized Laplacian + noise (using irlba)\n",
      "\n",
      "11:23:06 Commencing optimization for 200 epochs, with 781848 positive edges\n",
      "\n",
      "11:23:16 Optimization finished\n",
      "\n",
      "Computing nearest neighbor graph\n",
      "\n",
      "Computing SNN\n",
      "\n"
     ]
    },
    {
     "name": "stdout",
     "output_type": "stream",
     "text": [
      "Modularity Optimizer version 1.3.0 by Ludo Waltman and Nees Jan van Eck\n",
      "\n",
      "Number of nodes: 18000\n",
      "Number of edges: 609761\n",
      "\n",
      "Running Louvain algorithm...\n",
      "Maximum modularity in 10 random starts: 0.8627\n",
      "Number of communities: 7\n",
      "Elapsed time: 3 seconds\n"
     ]
    },
    {
     "data": {
      "text/plain": [
       "AnnData object with n_obs × n_vars = 18000 × 3130\n",
       "    obs: 'origin', 'cell_type_merged', 'pseudo_time', 'nFeaturess_RNA_by_counts', 'log1p_nFeaturess_RNA_by_counts', 'total_counts', 'log1p_total_counts', 'pct_counts_in_top_50_genes', 'pct_counts_in_top_100_genes', 'pct_counts_in_top_200_genes', 'pct_counts_in_top_500_genes', 'nCount_RNA', 'nFeature_RNA', 'integrated_snn_res.0.5', 'seurat_clusters'\n",
       "    var: 'name'\n",
       "    obsm: 'X_pca', 'X_umap'"
      ]
     },
     "metadata": {},
     "output_type": "display_data"
    }
   ],
   "source": [
    "sceasy::convertFormat(\"../data/simulated.AML1.h5ad\", from=\"anndata\", to=\"seurat\",\n",
    "                       outFile='simulated.AML1.rds')\n",
    "\n",
    "adata=readRDS(\"simulated.AML1.rds\")\n",
    "adata <- FindVariableFeatures(adata)\n",
    "adata.list <- SplitObject(adata, split.by = \"origin\")\n",
    "features <- SelectIntegrationFeatures(object.list = adata.list)\n",
    "adata.anchors <- FindIntegrationAnchors(object.list = adata.list, , anchor.features = features)\n",
    "adata.combined <- IntegrateData(anchorset = adata.anchors)\n",
    "adata.combined <- ScaleData(adata.combined, verbose = FALSE)\n",
    "adata.combined <- RunPCA(adata.combined, npcs = 30, verbose = FALSE)\n",
    "adata.combined <- RunUMAP(adata.combined, reduction = \"pca\", dims = 1:30)\n",
    "adata.combined <- FindNeighbors(adata.combined, reduction = \"pca\", dims = 1:30)\n",
    "adata.combined <- FindClusters(adata.combined, resolution = 0.5)\n",
    "\n",
    "\n",
    "sceasy::convertFormat(adata.combined, from=\"seurat\", to=\"anndata\", outFile='outputs/simulated.AML1.seurat.h5ad')"
   ]
  },
  {
   "cell_type": "code",
   "execution_count": 8,
   "metadata": {},
   "outputs": [
    {
     "name": "stderr",
     "output_type": "stream",
     "text": [
      "X -> counts\n",
      "\n",
      "Warning message:\n",
      "“Keys should be one or more alphanumeric characters followed by an underscore, setting key from TRUEdecipher_v_ to TRUEdecipherv_”\n",
      "Warning message:\n",
      "“All keys should be one or more alphanumeric characters followed by an underscore '_', setting key to TRUEdecipherv_”\n"
     ]
    },
    {
     "data": {
      "text/plain": [
       "An object of class Seurat \n",
       "3130 features across 13805 samples within 1 assay \n",
       "Active assay: RNA (3130 features, 0 variable features)\n",
       " 1 dimensional reduction calculated: true_decipher_v"
      ]
     },
     "metadata": {},
     "output_type": "display_data"
    },
    {
     "name": "stderr",
     "output_type": "stream",
     "text": [
      "Scaling features for provided objects\n",
      "\n",
      "Finding all pairwise anchors\n",
      "\n",
      "Running CCA\n",
      "\n",
      "Merging objects\n",
      "\n",
      "Finding neighborhoods\n",
      "\n",
      "Finding anchors\n",
      "\n",
      "\tFound 20862 anchors\n",
      "\n",
      "Filtering anchors\n",
      "\n",
      "\tRetained 851 anchors\n",
      "\n",
      "Merging dataset 1 into 2\n",
      "\n",
      "Extracting anchors for merged samples\n",
      "\n",
      "Finding integration vectors\n",
      "\n",
      "Finding integration vector weights\n",
      "\n",
      "Integrating data\n",
      "\n",
      "09:54:28 UMAP embedding parameters a = 0.9922 b = 1.112\n",
      "\n",
      "09:54:28 Read 13805 rows and found 30 numeric columns\n",
      "\n",
      "09:54:28 Using Annoy for neighbor search, n_neighbors = 30\n",
      "\n",
      "09:54:28 Building Annoy index with metric = cosine, n_trees = 50\n",
      "\n",
      "0%   10   20   30   40   50   60   70   80   90   100%\n",
      "\n",
      "[----|----|----|----|----|----|----|----|----|----|\n",
      "\n",
      "*\n",
      "*\n",
      "*\n",
      "*\n",
      "*\n",
      "*\n",
      "*\n",
      "*\n",
      "*\n",
      "*\n",
      "*\n",
      "*\n",
      "*\n",
      "*\n",
      "*\n",
      "*\n",
      "*\n",
      "*\n",
      "*\n",
      "*\n",
      "*\n",
      "*\n",
      "*\n",
      "*\n",
      "*\n",
      "*\n",
      "*\n",
      "*\n",
      "*\n",
      "*\n",
      "*\n",
      "*\n",
      "*\n",
      "*\n",
      "*\n",
      "*\n",
      "*\n",
      "*\n",
      "*\n",
      "*\n",
      "*\n",
      "*\n",
      "*\n",
      "*\n",
      "*\n",
      "*\n",
      "*\n",
      "*\n",
      "*\n",
      "*\n",
      "|\n",
      "\n",
      "09:54:30 Writing NN index file to temp file /var/folders/tn/th3j2v4j6x9c8y_m1hmcdxym0000gn/T//Rtmpk9MdaW/file9191713bb2f\n",
      "\n",
      "09:54:30 Searching Annoy index using 1 thread, search_k = 3000\n",
      "\n",
      "09:54:34 Annoy recall = 100%\n",
      "\n",
      "09:54:34 Commencing smooth kNN distance calibration using 1 thread\n",
      " with target n_neighbors = 30\n",
      "\n",
      "09:54:35 Initializing from normalized Laplacian + noise (using irlba)\n",
      "\n",
      "09:54:35 Commencing optimization for 200 epochs, with 602710 positive edges\n",
      "\n",
      "09:54:42 Optimization finished\n",
      "\n",
      "Computing nearest neighbor graph\n",
      "\n",
      "Computing SNN\n",
      "\n"
     ]
    },
    {
     "name": "stdout",
     "output_type": "stream",
     "text": [
      "Modularity Optimizer version 1.3.0 by Ludo Waltman and Nees Jan van Eck\n",
      "\n",
      "Number of nodes: 13805\n",
      "Number of edges: 490919\n",
      "\n",
      "Running Louvain algorithm...\n",
      "Maximum modularity in 10 random starts: 0.8630\n",
      "Number of communities: 7\n",
      "Elapsed time: 2 seconds\n"
     ]
    },
    {
     "data": {
      "text/plain": [
       "AnnData object with n_obs × n_vars = 13805 × 3130\n",
       "    obs: 'origin', 'cell_type_merged', 'pseudo_time', 'nFeaturess_RNA_by_counts', 'log1p_nFeaturess_RNA_by_counts', 'total_counts', 'log1p_total_counts', 'pct_counts_in_top_50_genes', 'pct_counts_in_top_100_genes', 'pct_counts_in_top_200_genes', 'pct_counts_in_top_500_genes', 'nCount_RNA', 'nFeature_RNA', 'integrated_snn_res.0.5', 'seurat_clusters'\n",
       "    var: 'name'\n",
       "    obsm: 'X_pca', 'X_umap'"
      ]
     },
     "metadata": {},
     "output_type": "display_data"
    }
   ],
   "source": [
    "sceasy::convertFormat(\"../data/simulated.AML1.downsampled.h5ad\", from=\"anndata\", to=\"seurat\",\n",
    "                       outFile='simulated.AML1.downsampled.rds')\n",
    "\n",
    "adata=readRDS(\"simulated.AML1.downsampled.rds\")\n",
    "adata <- FindVariableFeatures(adata)\n",
    "adata.list <- SplitObject(adata, split.by = \"origin\")\n",
    "features <- SelectIntegrationFeatures(object.list = adata.list)\n",
    "adata.anchors <- FindIntegrationAnchors(object.list = adata.list, , anchor.features = features)\n",
    "adata.combined <- IntegrateData(anchorset = adata.anchors)\n",
    "adata.combined <- ScaleData(adata.combined, verbose = FALSE)\n",
    "adata.combined <- RunPCA(adata.combined, npcs = 30, verbose = FALSE)\n",
    "adata.combined <- RunUMAP(adata.combined, reduction = \"pca\", dims = 1:30)\n",
    "adata.combined <- FindNeighbors(adata.combined, reduction = \"pca\", dims = 1:30)\n",
    "adata.combined <- FindClusters(adata.combined, resolution = 0.5)\n",
    "\n",
    "\n",
    "sceasy::convertFormat(adata.combined, from=\"seurat\", to=\"anndata\", outFile='outputs/simulated.AML1.downsampled2.seurat.h5ad')"
   ]
  },
  {
   "cell_type": "code",
   "execution_count": null,
   "metadata": {},
   "outputs": [],
   "source": []
  }
 ],
 "metadata": {
  "kernelspec": {
   "display_name": "R [conda env:R]",
   "language": "R",
   "name": "conda-env-R-r"
  },
  "language_info": {
   "codemirror_mode": "r",
   "file_extension": ".r",
   "mimetype": "text/x-r-source",
   "name": "R",
   "pygments_lexer": "r",
   "version": "4.2.3"
  }
 },
 "nbformat": 4,
 "nbformat_minor": 4
}
