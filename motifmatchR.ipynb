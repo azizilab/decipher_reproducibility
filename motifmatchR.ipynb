{
 "cells": [
  {
   "cell_type": "code",
   "execution_count": 2,
   "id": "5182ed07",
   "metadata": {
    "scrolled": true
   },
   "outputs": [
    {
     "name": "stderr",
     "output_type": "stream",
     "text": [
      "\n",
      "\n",
      "Loading required package: stats4\n",
      "\n",
      "Loading required package: BiocGenerics\n",
      "\n",
      "\n",
      "Attaching package: ‘BiocGenerics’\n",
      "\n",
      "\n",
      "The following objects are masked from ‘package:stats’:\n",
      "\n",
      "    IQR, mad, sd, var, xtabs\n",
      "\n",
      "\n",
      "The following objects are masked from ‘package:base’:\n",
      "\n",
      "    anyDuplicated, append, as.data.frame, basename, cbind, colnames,\n",
      "    dirname, do.call, duplicated, eval, evalq, Filter, Find, get, grep,\n",
      "    grepl, intersect, is.unsorted, lapply, Map, mapply, match, mget,\n",
      "    order, paste, pmax, pmax.int, pmin, pmin.int, Position, rank,\n",
      "    rbind, Reduce, rownames, sapply, setdiff, sort, table, tapply,\n",
      "    union, unique, unsplit, which.max, which.min\n",
      "\n",
      "\n",
      "Loading required package: S4Vectors\n",
      "\n",
      "\n",
      "Attaching package: ‘S4Vectors’\n",
      "\n",
      "\n",
      "The following objects are masked from ‘package:base’:\n",
      "\n",
      "    expand.grid, I, unname\n",
      "\n",
      "\n",
      "Loading required package: IRanges\n",
      "\n",
      "Loading required package: GenomeInfoDb\n",
      "\n"
     ]
    }
   ],
   "source": [
    "library(motifmatchr)\n",
    "library(GenomicRanges)"
   ]
  },
  {
   "cell_type": "code",
   "execution_count": 3,
   "id": "162ce515",
   "metadata": {},
   "outputs": [
    {
     "name": "stderr",
     "output_type": "stream",
     "text": [
      "Attaching SeuratObject\n",
      "\n",
      "Attaching sp\n",
      "\n"
     ]
    }
   ],
   "source": [
    "library(Seurat)"
   ]
  },
  {
   "cell_type": "code",
   "execution_count": 22,
   "id": "a3532b5e",
   "metadata": {},
   "outputs": [],
   "source": [
    "gr = readRDS(\"outputs_merge89/PeakCalls/C5-reproduciblePeaks.gr.rds\")"
   ]
  },
  {
   "cell_type": "code",
   "execution_count": 23,
   "id": "f5fc82c1",
   "metadata": {},
   "outputs": [],
   "source": [
    "library(TFBSTools)"
   ]
  },
  {
   "cell_type": "code",
   "execution_count": 24,
   "id": "0e7374c8",
   "metadata": {},
   "outputs": [],
   "source": [
    "data(example_motifs, package = \"motifmatchr\") "
   ]
  },
  {
   "cell_type": "code",
   "execution_count": 25,
   "id": "bf4eb02f",
   "metadata": {},
   "outputs": [],
   "source": [
    "library(JASPAR2020)"
   ]
  },
  {
   "cell_type": "code",
   "execution_count": 25,
   "id": "0e7c2860",
   "metadata": {},
   "outputs": [],
   "source": [
    "jaspar_ids = c(\"MA0035.4\",\"MA0477.1\",\"MA0493.2\",\"MA0495.1\",\"MA0498.2\",\"MA0594.2\",\"MA0902.1\",\"MA1499.1\",\"MA0036.1\",\n",
    "                \"MA0147.3\",\"MA0160.2\",\"MA0474.2\",\"MA0605.2\",\"MA0653.1\",\"MA0778.1\",\"MA0904.2\",\"MA1117.1\",\n",
    "                \"MA1500.1\",\"MA1515.1\",\"MA1592.1\",\"MA1726.1\",\"UN0177.1\")\n",
    "gene_names = c(\"GATA1\",\"FOSL1\",\"KLF1\",\"MAFF\",\"MEIS1\",\"HOXA9\",\"HOXB2\",\"HOXB4\",\"GATA2\",\"MYC\",\"NR4A2\",\"ERG\",\"ATF3\",\n",
    "                \"IRF9\",\"NFKB2\",\"HOXB5\",\"RELB\",\"HOXB6\",\"KLF2\",\"ZNF274\",\"ZNF331\",\"ZNF32\")"
   ]
  },
  {
   "cell_type": "code",
   "execution_count": 26,
   "id": "6ab8348b",
   "metadata": {},
   "outputs": [],
   "source": [
    "#full set with multiple motifs per TF\n",
    "jaspar_ids = c(\"MA0035.4\",\"MA0036.1\",'MA0036.2','MA0036.3','MA0147.3','MA0160.1','MA0160.2','MA0474.2',\n",
    "              'MA0477.1','MA0477.2','MA0493.2','MA0495.1','MA0495.2','MA0495.3','MA0498.2','MA0594.2',\n",
    "              'MA0605.2','MA0653.1','MA0778.1','MA0902.1','MA0902.2','MA0904.2','MA1117.1','MA1499.1',\n",
    "              'MA1500.1','MA1515.1','MA1592.1','MA1639.1','MA1726.1','UN0177.1','MA0137.1','MA0137.2',\n",
    "              'MA0137.3','MA0050.1','MA0050.2','MA0050.3')"
   ]
  },
  {
   "cell_type": "code",
   "execution_count": 27,
   "id": "11912548",
   "metadata": {},
   "outputs": [
    {
     "name": "stderr",
     "output_type": "stream",
     "text": [
      "Warning message in .get_internal_id(con, baseID, version):\n",
      "“There are 0 records with this based id and version combination!”\n",
      "Warning message in .get_internal_id(con, baseID, version):\n",
      "“There are 0 records with this based id and version combination!”\n",
      "Warning message in .get_internal_id(con, baseID, version):\n",
      "“There are 0 records with this based id and version combination!”\n",
      "Warning message in .get_internal_id(con, baseID, version):\n",
      "“There are 0 records with this based id and version combination!”\n"
     ]
    }
   ],
   "source": [
    "optsL <- list(ID = jaspar_ids)\n",
    "pfm1 <- TFBSTools::getMatrixSet(JASPAR2020, opts = optsL)"
   ]
  },
  {
   "cell_type": "code",
   "execution_count": 28,
   "id": "146ddfb8",
   "metadata": {},
   "outputs": [],
   "source": [
    "motif_ix <- matchMotifs(pfm1, gr, genome = \"hg38\",out='scores') \n",
    "#motifMatches(motif_ix) # Extract matches matrix from result"
   ]
  },
  {
   "cell_type": "code",
   "execution_count": 29,
   "id": "be88c13a",
   "metadata": {},
   "outputs": [],
   "source": [
    "scores = as.data.frame(motifScores(motif_ix))\n",
    "scores <- cbind(scores,gr$nearestGene)"
   ]
  },
  {
   "cell_type": "code",
   "execution_count": 30,
   "id": "04007bb4",
   "metadata": {},
   "outputs": [],
   "source": [
    "write.csv(scores, \"C5.AML1.full_set.csv\")"
   ]
  }
 ],
 "metadata": {
  "kernelspec": {
   "display_name": "R",
   "language": "R",
   "name": "r"
  },
  "language_info": {
   "codemirror_mode": "r",
   "file_extension": ".r",
   "mimetype": "text/x-r-source",
   "name": "R",
   "pygments_lexer": "r",
   "version": "4.1.1"
  }
 },
 "nbformat": 4,
 "nbformat_minor": 5
}
