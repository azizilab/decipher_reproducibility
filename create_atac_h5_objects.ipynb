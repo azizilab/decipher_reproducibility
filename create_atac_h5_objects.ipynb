{
 "cells": [
  {
   "cell_type": "code",
   "execution_count": 1,
   "id": "ffd778f1",
   "metadata": {},
   "outputs": [],
   "source": [
    "import os\n",
    "import pandas as pd\n",
    "import numpy as np\n",
    "\n",
    "import scanpy as sc\n",
    "import pyranges as pr\n",
    "import warnings"
   ]
  },
  {
   "cell_type": "code",
   "execution_count": 2,
   "id": "c55f2a4f",
   "metadata": {},
   "outputs": [
    {
     "name": "stderr",
     "output_type": "stream",
     "text": [
      "findfont: Font family ['Raleway'] not found. Falling back to DejaVu Sans.\n",
      "findfont: Font family ['Lato'] not found. Falling back to DejaVu Sans.\n"
     ]
    }
   ],
   "source": [
    "import palantir \n",
    "import phenograph\n",
    "import harmony\n",
    "\n",
    "import matplotlib\n",
    "import matplotlib.pyplot as plt\n",
    "import seaborn as sns"
   ]
  },
  {
   "cell_type": "code",
   "execution_count": 3,
   "id": "0c29010e",
   "metadata": {},
   "outputs": [],
   "source": [
    "%matplotlib inline"
   ]
  },
  {
   "cell_type": "code",
   "execution_count": 4,
   "id": "68772e43",
   "metadata": {},
   "outputs": [],
   "source": [
    "sns.set_style('white')\n",
    "matplotlib.rcParams['figure.figsize'] = [4, 4]\n",
    "matplotlib.rcParams['image.cmap'] = 'Spectral_r'\n",
    "warnings.filterwarnings(action=\"ignore\", module=\"matplotlib\", message=\"findfont\")"
   ]
  },
  {
   "cell_type": "code",
   "execution_count": 3,
   "id": "8bd473e0",
   "metadata": {},
   "outputs": [],
   "source": [
    "def log_transform(ad, ps=0.1):\n",
    "    ad.X.data = np.log2(ad.X.data + ps) - np.log2(ps)"
   ]
  },
  {
   "cell_type": "code",
   "execution_count": 4,
   "id": "396735a9",
   "metadata": {},
   "outputs": [],
   "source": [
    "def pyranges_from_strings(pos_list):\n",
    "    # Chromosome and positions\n",
    "    chr = pos_list.str.split(':').str.get(0)\n",
    "    start = pd.Series(pos_list.str.split(':').str.get(1)).str.split('-').str.get(0)\n",
    "    end = pd.Series(pos_list.str.split(':').str.get(1)).str.split('-').str.get(1)\n",
    "    \n",
    "    # Create ranges\n",
    "    gr = pr.PyRanges(chromosomes=chr, starts=start, ends=end)\n",
    "    \n",
    "    return gr"
   ]
  },
  {
   "cell_type": "code",
   "execution_count": 5,
   "id": "3014652f",
   "metadata": {},
   "outputs": [],
   "source": [
    "data_dir = os.path.expanduser('MERGED_PEER/')"
   ]
  },
  {
   "cell_type": "code",
   "execution_count": 6,
   "id": "fd751809",
   "metadata": {},
   "outputs": [],
   "source": [
    "# Peaks data\n",
    "from scipy.io import mmread\n",
    "counts = mmread(data_dir + 'AML7_MERGE_counts.mtx')"
   ]
  },
  {
   "cell_type": "code",
   "execution_count": 7,
   "id": "96ec815c",
   "metadata": {},
   "outputs": [
    {
     "data": {
      "text/html": [
       "<div>\n",
       "<style scoped>\n",
       "    .dataframe tbody tr th:only-of-type {\n",
       "        vertical-align: middle;\n",
       "    }\n",
       "\n",
       "    .dataframe tbody tr th {\n",
       "        vertical-align: top;\n",
       "    }\n",
       "\n",
       "    .dataframe thead th {\n",
       "        text-align: right;\n",
       "    }\n",
       "</style>\n",
       "<table border=\"1\" class=\"dataframe\">\n",
       "  <thead>\n",
       "    <tr style=\"text-align: right;\">\n",
       "      <th></th>\n",
       "      <th>seqnames</th>\n",
       "      <th>start</th>\n",
       "      <th>end</th>\n",
       "      <th>width</th>\n",
       "      <th>strand</th>\n",
       "      <th>score</th>\n",
       "      <th>replicateScoreQuantile</th>\n",
       "      <th>groupScoreQuantile</th>\n",
       "      <th>Reproducibility</th>\n",
       "      <th>GroupReplicate</th>\n",
       "      <th>distToGeneStart</th>\n",
       "      <th>nearestGene</th>\n",
       "      <th>peakType</th>\n",
       "      <th>distToTSS</th>\n",
       "      <th>nearestTSS</th>\n",
       "      <th>GC</th>\n",
       "      <th>idx</th>\n",
       "      <th>N</th>\n",
       "    </tr>\n",
       "  </thead>\n",
       "  <tbody>\n",
       "    <tr>\n",
       "      <th>chr1:817109-817609</th>\n",
       "      <td>chr1</td>\n",
       "      <td>817109</td>\n",
       "      <td>817609</td>\n",
       "      <td>501</td>\n",
       "      <td>*</td>\n",
       "      <td>43.60000</td>\n",
       "      <td>0.913</td>\n",
       "      <td>0.838</td>\n",
       "      <td>2</td>\n",
       "      <td>C4._.AML7_CD34</td>\n",
       "      <td>11</td>\n",
       "      <td>FAM87B</td>\n",
       "      <td>Promoter</td>\n",
       "      <td>11</td>\n",
       "      <td>uc057aum.1</td>\n",
       "      <td>0.4830</td>\n",
       "      <td>1</td>\n",
       "      <td>0</td>\n",
       "    </tr>\n",
       "    <tr>\n",
       "      <th>chr1:826659-827159</th>\n",
       "      <td>chr1</td>\n",
       "      <td>826659</td>\n",
       "      <td>827159</td>\n",
       "      <td>501</td>\n",
       "      <td>*</td>\n",
       "      <td>3.52005</td>\n",
       "      <td>0.401</td>\n",
       "      <td>0.123</td>\n",
       "      <td>2</td>\n",
       "      <td>C3._.AML7_CD133</td>\n",
       "      <td>612</td>\n",
       "      <td>LINC00115</td>\n",
       "      <td>Exonic</td>\n",
       "      <td>76</td>\n",
       "      <td>uc031tlo.2</td>\n",
       "      <td>0.5888</td>\n",
       "      <td>2</td>\n",
       "      <td>0</td>\n",
       "    </tr>\n",
       "    <tr>\n",
       "      <th>chr1:827267-827767</th>\n",
       "      <td>chr1</td>\n",
       "      <td>827267</td>\n",
       "      <td>827767</td>\n",
       "      <td>501</td>\n",
       "      <td>*</td>\n",
       "      <td>116.06400</td>\n",
       "      <td>0.911</td>\n",
       "      <td>0.833</td>\n",
       "      <td>2</td>\n",
       "      <td>C6._.AML7_CD133</td>\n",
       "      <td>4</td>\n",
       "      <td>LINC00115</td>\n",
       "      <td>Promoter</td>\n",
       "      <td>4</td>\n",
       "      <td>uc031tlo.2</td>\n",
       "      <td>0.6926</td>\n",
       "      <td>3</td>\n",
       "      <td>0</td>\n",
       "    </tr>\n",
       "    <tr>\n",
       "      <th>chr1:838190-838690</th>\n",
       "      <td>chr1</td>\n",
       "      <td>838190</td>\n",
       "      <td>838690</td>\n",
       "      <td>501</td>\n",
       "      <td>*</td>\n",
       "      <td>2.58470</td>\n",
       "      <td>0.627</td>\n",
       "      <td>0.262</td>\n",
       "      <td>2</td>\n",
       "      <td>C9._.Rep2</td>\n",
       "      <td>10917</td>\n",
       "      <td>LINC00115</td>\n",
       "      <td>Intronic</td>\n",
       "      <td>6834</td>\n",
       "      <td>uc031tlo.2</td>\n",
       "      <td>0.4631</td>\n",
       "      <td>4</td>\n",
       "      <td>0</td>\n",
       "    </tr>\n",
       "    <tr>\n",
       "      <th>chr1:858545-859045</th>\n",
       "      <td>chr1</td>\n",
       "      <td>858545</td>\n",
       "      <td>859045</td>\n",
       "      <td>501</td>\n",
       "      <td>*</td>\n",
       "      <td>1.25495</td>\n",
       "      <td>0.280</td>\n",
       "      <td>0.040</td>\n",
       "      <td>2</td>\n",
       "      <td>C15._.AML7_CD34</td>\n",
       "      <td>18107</td>\n",
       "      <td>FAM41C</td>\n",
       "      <td>Exonic</td>\n",
       "      <td>7446</td>\n",
       "      <td>uc057aux.1</td>\n",
       "      <td>0.5629</td>\n",
       "      <td>5</td>\n",
       "      <td>0</td>\n",
       "    </tr>\n",
       "  </tbody>\n",
       "</table>\n",
       "</div>"
      ],
      "text/plain": [
       "                   seqnames   start     end  width strand      score  \\\n",
       "chr1:817109-817609     chr1  817109  817609    501      *   43.60000   \n",
       "chr1:826659-827159     chr1  826659  827159    501      *    3.52005   \n",
       "chr1:827267-827767     chr1  827267  827767    501      *  116.06400   \n",
       "chr1:838190-838690     chr1  838190  838690    501      *    2.58470   \n",
       "chr1:858545-859045     chr1  858545  859045    501      *    1.25495   \n",
       "\n",
       "                    replicateScoreQuantile  groupScoreQuantile  \\\n",
       "chr1:817109-817609                   0.913               0.838   \n",
       "chr1:826659-827159                   0.401               0.123   \n",
       "chr1:827267-827767                   0.911               0.833   \n",
       "chr1:838190-838690                   0.627               0.262   \n",
       "chr1:858545-859045                   0.280               0.040   \n",
       "\n",
       "                    Reproducibility   GroupReplicate  distToGeneStart  \\\n",
       "chr1:817109-817609                2   C4._.AML7_CD34               11   \n",
       "chr1:826659-827159                2  C3._.AML7_CD133              612   \n",
       "chr1:827267-827767                2  C6._.AML7_CD133                4   \n",
       "chr1:838190-838690                2        C9._.Rep2            10917   \n",
       "chr1:858545-859045                2  C15._.AML7_CD34            18107   \n",
       "\n",
       "                   nearestGene  peakType  distToTSS  nearestTSS      GC  idx  \\\n",
       "chr1:817109-817609      FAM87B  Promoter         11  uc057aum.1  0.4830    1   \n",
       "chr1:826659-827159   LINC00115    Exonic         76  uc031tlo.2  0.5888    2   \n",
       "chr1:827267-827767   LINC00115  Promoter          4  uc031tlo.2  0.6926    3   \n",
       "chr1:838190-838690   LINC00115  Intronic       6834  uc031tlo.2  0.4631    4   \n",
       "chr1:858545-859045      FAM41C    Exonic       7446  uc057aux.1  0.5629    5   \n",
       "\n",
       "                    N  \n",
       "chr1:817109-817609  0  \n",
       "chr1:826659-827159  0  \n",
       "chr1:827267-827767  0  \n",
       "chr1:838190-838690  0  \n",
       "chr1:858545-859045  0  "
      ]
     },
     "execution_count": 7,
     "metadata": {},
     "output_type": "execute_result"
    }
   ],
   "source": [
    "# Cell and peak information\n",
    "cells = pd.read_csv(data_dir + 'AML7_MERGE_cells.csv', index_col=0).iloc[:, 0]\n",
    "peaks = pd.read_csv(data_dir + 'AML7_MERGE_peaks.csv', index_col=0)\n",
    "peaks.index = peaks['seqnames'] + ':' + peaks['start'].astype(str) + '-' + peaks['end'].astype(str)\n",
    "peaks.head()"
   ]
  },
  {
   "cell_type": "code",
   "execution_count": 8,
   "id": "95bdf0b4",
   "metadata": {},
   "outputs": [],
   "source": [
    "ad = sc.AnnData(counts.T)\n",
    "ad.obs_names = cells\n",
    "ad.var_names = peaks.index\n",
    "for col in ['distToGeneStart', 'nearestGene', 'peakType',\n",
    "       'distToTSS', 'nearestTSS','replicateScoreQuantile']:\n",
    "    ad.var[col] = peaks[col]"
   ]
  },
  {
   "cell_type": "code",
   "execution_count": 9,
   "id": "ff4b22a9",
   "metadata": {},
   "outputs": [
    {
     "data": {
      "text/plain": [
       "AnnData object with n_obs × n_vars = 22404 × 183768\n",
       "    var: 'distToGeneStart', 'nearestGene', 'peakType', 'distToTSS', 'nearestTSS', 'replicateScoreQuantile'"
      ]
     },
     "execution_count": 9,
     "metadata": {},
     "output_type": "execute_result"
    }
   ],
   "source": [
    "ad"
   ]
  },
  {
   "cell_type": "code",
   "execution_count": 10,
   "id": "777b1c06",
   "metadata": {},
   "outputs": [],
   "source": [
    "ad.obsm['X_svd'] = pd.read_csv(data_dir + 'AML7_MERGE_svd.csv', index_col=0).loc[ad.obs_names, : ].values"
   ]
  },
  {
   "cell_type": "code",
   "execution_count": 11,
   "id": "525eb8d6",
   "metadata": {},
   "outputs": [],
   "source": [
    "# UMAP\n",
    "ad.obsm['UMAP'] = pd.read_csv(data_dir + 'AML7_MERGE_umap.csv', index_col=0).loc[ad.obs_names, :].values"
   ]
  },
  {
   "cell_type": "code",
   "execution_count": 12,
   "id": "8459afec",
   "metadata": {},
   "outputs": [],
   "source": [
    "# Metadata\n",
    "meta = pd.read_csv(data_dir + 'AML7_MERGE_cell_metadata.csv', index_col=0).loc[ad.obs_names, :]\n",
    "for col in meta.columns:\n",
    "    ad.obs[col] = meta[col].values"
   ]
  },
  {
   "cell_type": "code",
   "execution_count": 13,
   "id": "de96de9f",
   "metadata": {},
   "outputs": [],
   "source": [
    "ad.obs['AP-GFP'] = ad.obs['Sample'].str.split('_').str.get(0)\n",
    "ad.obs['Replicate'] = ad.obs['Sample'].str.split('_').str.get(1)"
   ]
  },
  {
   "cell_type": "code",
   "execution_count": null,
   "id": "23254539",
   "metadata": {},
   "outputs": [],
   "source": []
  },
  {
   "cell_type": "code",
   "execution_count": 14,
   "id": "65b90c91",
   "metadata": {},
   "outputs": [],
   "source": [
    "# Gene scores\n",
    "gene_scores = pd.read_csv(data_dir + 'AML7_MERGE_all_cells_gene_scores.csv', index_col=0).T"
   ]
  },
  {
   "cell_type": "code",
   "execution_count": 15,
   "id": "c5f02a29",
   "metadata": {},
   "outputs": [],
   "source": [
    "ad.obsm['GeneScores'] = gene_scores.loc[ad.obs_names, :].values\n",
    "ad.uns['GeneScoresColums'] = gene_scores.columns.values"
   ]
  },
  {
   "cell_type": "code",
   "execution_count": 19,
   "id": "83ef56ea",
   "metadata": {},
   "outputs": [],
   "source": [
    "#warnings.filterwarnings('ignore')\n",
    "#dm_res = palantir.utils.run_diffusion_maps(pd.DataFrame(ad.obsm['X_svd'], index=ad.obs_names))\n",
    "#warnings.filterwarnings('default')"
   ]
  },
  {
   "cell_type": "code",
   "execution_count": 20,
   "id": "cb2c9d69",
   "metadata": {},
   "outputs": [],
   "source": [
    "#ad.obsm['FDL'] = harmony.plot.force_directed_layout(dm_res['kernel']).values"
   ]
  },
  {
   "cell_type": "code",
   "execution_count": 21,
   "id": "35c0ce05",
   "metadata": {},
   "outputs": [],
   "source": [
    "#fdl = pd.DataFrame(ad.obsm['FDL'], index=ad.obs_names, columns=['x', 'y'])\n",
    "#umap = pd.DataFrame(ad.obsm['UMAP'], index=ad.obs_names, columns=['x', 'y'])"
   ]
  },
  {
   "cell_type": "code",
   "execution_count": 16,
   "id": "c358d17c",
   "metadata": {},
   "outputs": [],
   "source": [
    "dense=ad.X.todense()"
   ]
  },
  {
   "cell_type": "code",
   "execution_count": 17,
   "id": "ad60c9a7",
   "metadata": {},
   "outputs": [],
   "source": [
    "ad.X=dense"
   ]
  },
  {
   "cell_type": "code",
   "execution_count": 18,
   "id": "b7361460",
   "metadata": {},
   "outputs": [
    {
     "name": "stderr",
     "output_type": "stream",
     "text": [
      "... storing 'Sample' as categorical\n",
      "... storing 'Harmony_Clusters' as categorical\n",
      "... storing 'LSI_Clusters' as categorical\n",
      "... storing 'AP-GFP' as categorical\n",
      "... storing 'Replicate' as categorical\n",
      "... storing 'nearestGene' as categorical\n",
      "... storing 'peakType' as categorical\n",
      "... storing 'nearestTSS' as categorical\n"
     ]
    }
   ],
   "source": [
    "ad.write('AML7_MERGE_ATAC.h5ad')"
   ]
  },
  {
   "cell_type": "code",
   "execution_count": null,
   "id": "31fa83a8",
   "metadata": {},
   "outputs": [],
   "source": []
  }
 ],
 "metadata": {
  "kernelspec": {
   "display_name": "Python 3",
   "language": "python",
   "name": "python3"
  },
  "language_info": {
   "codemirror_mode": {
    "name": "ipython",
    "version": 3
   },
   "file_extension": ".py",
   "mimetype": "text/x-python",
   "name": "python",
   "nbconvert_exporter": "python",
   "pygments_lexer": "ipython3",
   "version": "3.8.3"
  }
 },
 "nbformat": 4,
 "nbformat_minor": 5
}
